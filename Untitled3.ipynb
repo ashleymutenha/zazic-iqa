{
 "cells": [
  {
   "cell_type": "code",
   "execution_count": 6,
   "id": "4c32f3a6-db7b-4378-9cce-333681151441",
   "metadata": {},
   "outputs": [
    {
     "name": "stdout",
     "output_type": "stream",
     "text": [
      "Files loaded successfully!\n",
      "\n",
      "New DataFrame with revisedOsdv rows reordered based on zazicOsdv (using 'QuestionID'):\n",
      "                    QuestionID  \\\n",
      "7              clientSpaceSize   \n",
      "8              spaceCleaniness   \n",
      "9                 waitingSpace   \n",
      "10  examinationroomTemperature   \n",
      "11    examionationroomLighting   \n",
      "\n",
      "                                             Question  \\\n",
      "7   Are space and client flow arranged to allow al...   \n",
      "8   Is the facility clean (free of litter; clean f...   \n",
      "9   Is there enough room (indoor or outdoor) for a...   \n",
      "10                    Is the temperature comfortable?   \n",
      "11  Is the lighting sufficient to let staff perfor...   \n",
      "\n",
      "                           Category                          SubCategory  \n",
      "7   Facilities Supplies, Emergency   Operation Theatre and Recovery Room  \n",
      "8   Facilities Supplies, Emergency   Operation Theatre and Recovery Room  \n",
      "9   Facilities Supplies, Emergency   Operation Theatre and Recovery Room  \n",
      "10  Facilities Supplies, Emergency   Operation Theatre and Recovery Room  \n",
      "11  Facilities Supplies, Emergency   Operation Theatre and Recovery Room  \n",
      "\n",
      "Reordered DataFrame saved to 'reordered.xlsx'\n"
     ]
    }
   ],
   "source": [
    "import pandas as pd\n",
    "\n",
    "# IMPORTANT: Ensure 'zazicOsdv.xlsx' and 'revisedOsdv.xlsx' are in the same\n",
    "# directory as your script, or provide the full path to the files.\n",
    "try:\n",
    "    zazicOsdv = pd.read_excel(\"zazicOsdv.xlsx\")\n",
    "    revisedOsdv = pd.read_excel(\"revisedOsdv.xlsx\")\n",
    "    print(\"Files loaded successfully!\")\n",
    "except FileNotFoundError as e:\n",
    "    print(f\"Error: {e}. Please ensure the Excel files are in the correct directory or provide the full path.\")\n",
    "    print(\"I cannot proceed without access to these files.\")\n",
    "    # You might want to exit or handle this error differently in your actual script\n",
    "    exit() # Exiting the script if files are not found\n",
    "\n",
    "# Get the desired order of 'QuestionID' from zazicOsdv\n",
    "order_question_ids = zazicOsdv['QuestionID'].tolist()\n",
    "\n",
    "# Set 'QuestionID' as the index in revisedOsdv and reindex it\n",
    "# based on the 'order_question_ids'.\n",
    "merged_df = revisedOsdv.set_index('QuestionID').reindex(order_question_ids).reset_index()\n",
    "\n",
    "# Drop rows that contain NaN values introduced by reindex.\n",
    "# These NaNs represent QuestionIDs that were in zazicOsdv but not in revisedOsdv.\n",
    "# We check for NaNs across all columns of the original revisedOsdv, excluding 'QuestionID'.\n",
    "columns_to_check_for_nan = revisedOsdv.columns.drop('QuestionID').tolist()\n",
    "\n",
    "# Ensure there are columns to check for NaN.\n",
    "if not columns_to_check_for_nan:\n",
    "    # If revisedOsdv only has 'QuestionID', dropna will remove rows where QuestionID itself is NaN\n",
    "    # (which shouldn't happen if reindex creates NaNs only in other columns).\n",
    "    final_df = merged_df.dropna()\n",
    "else:\n",
    "    final_df = merged_df.dropna(subset=columns_to_check_for_nan)\n",
    "\n",
    "# Display the head of the newly created DataFrame\n",
    "print(\"\\nNew DataFrame with revisedOsdv rows reordered based on zazicOsdv (using 'QuestionID'):\")\n",
    "print(final_df.head())\n",
    "\n",
    "# Save the new DataFrame to an Excel file\n",
    "output_filename = 'reordered.xlsx' # Changed to .xlsx\n",
    "final_df.to_excel(output_filename, index=False) # Changed to to_excel()\n",
    "print(f\"\\nReordered DataFrame saved to '{output_filename}'\")"
   ]
  },
  {
   "cell_type": "code",
   "execution_count": null,
   "id": "57be9e7f-8da0-4d2b-a7d8-7a9035e7b628",
   "metadata": {},
   "outputs": [],
   "source": []
  }
 ],
 "metadata": {
  "kernelspec": {
   "display_name": "Python 3 (ipykernel)",
   "language": "python",
   "name": "python3"
  },
  "language_info": {
   "codemirror_mode": {
    "name": "ipython",
    "version": 3
   },
   "file_extension": ".py",
   "mimetype": "text/x-python",
   "name": "python",
   "nbconvert_exporter": "python",
   "pygments_lexer": "ipython3",
   "version": "3.12.7"
  }
 },
 "nbformat": 4,
 "nbformat_minor": 5
}
