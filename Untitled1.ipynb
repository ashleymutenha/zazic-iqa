{
 "cells": [
  {
   "cell_type": "code",
   "execution_count": 47,
   "id": "2c3c3a0f-d6a2-4bef-8a9b-d39de176abeb",
   "metadata": {},
   "outputs": [],
   "source": [
    "import pandas as pd\n",
    "import re \n",
    "osdv1 = pd.read_excel(\"osdv1.xlsx\")\n",
    "osdv2 = pd.read_excel(\"osdv2.xlsx\")"
   ]
  },
  {
   "cell_type": "code",
   "execution_count": 48,
   "id": "6b4767c9-b6d2-4919-abc3-f2f8893a9a1b",
   "metadata": {},
   "outputs": [],
   "source": [
    "osdv1.columns = [re.split(r'[./]', col)[-1] for col in osdv1.columns]\n"
   ]
  },
  {
   "cell_type": "code",
   "execution_count": 49,
   "id": "1b153279-fb46-49aa-bac9-82616b5de72e",
   "metadata": {},
   "outputs": [],
   "source": [
    "# osdv1.to_excel(\"osdv3.xlsx\")"
   ]
  },
  {
   "cell_type": "code",
   "execution_count": 50,
   "id": "74a5b187-1d22-4a0c-b561-928d621f8036",
   "metadata": {},
   "outputs": [],
   "source": [
    "osdv3 = pd.read_excel(\"osdv3.xlsx\")"
   ]
  },
  {
   "cell_type": "code",
   "execution_count": 51,
   "id": "e9af82c1-3eca-4e24-963c-790f9667ecd9",
   "metadata": {},
   "outputs": [],
   "source": [
    "resultant_df = pd.DataFrame({\n",
    "    'QuestionID': osdv3.columns,  # Or osdv3.iloc[:, 4] if it's strictly the 4th column\n",
    "    'Question': osdv2.columns     # Or osdv2.iloc[:, 4] if it's strictly the 4th column\n",
    "})\n",
    "\n",
    "\n",
    "resultant_df.to_excel(\"zazicOsdv.xlsx\")"
   ]
  }
 ],
 "metadata": {
  "kernelspec": {
   "display_name": "Python 3 (ipykernel)",
   "language": "python",
   "name": "python3"
  },
  "language_info": {
   "codemirror_mode": {
    "name": "ipython",
    "version": 3
   },
   "file_extension": ".py",
   "mimetype": "text/x-python",
   "name": "python",
   "nbconvert_exporter": "python",
   "pygments_lexer": "ipython3",
   "version": "3.12.7"
  }
 },
 "nbformat": 4,
 "nbformat_minor": 5
}
