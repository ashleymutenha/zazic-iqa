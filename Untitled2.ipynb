{
 "cells": [
  {
   "cell_type": "code",
   "execution_count": 1,
   "id": "a39570d3-0858-4f69-a0da-b54927e1b990",
   "metadata": {},
   "outputs": [],
   "source": [
    "import pandas as pd\n",
    "\n",
    "\n",
    "df = pd.read_excel(\"zazicOsdv.xlsx\")"
   ]
  },
  {
   "cell_type": "code",
   "execution_count": 2,
   "id": "2b378e23-6328-4e96-be36-e2ec726efbe0",
   "metadata": {},
   "outputs": [],
   "source": [
    "# def remove_last_char_if_digit(text):\n",
    "#     \"\"\"\n",
    "#     Removes the last character from a string if it is a digit.\n",
    "#     Returns the original string if it's empty, or the last char is not a digit.\n",
    "#     \"\"\"\n",
    "#     if not isinstance(text, str):\n",
    "#         # Handle non-string values, e.g., NaNs or numbers, if any exist in the column\n",
    "#         return text\n",
    "#     if text and text[-1].isdigit():\n",
    "#         return text[:-1]\n",
    "#     return text\n",
    "\n",
    "# # Apply the function to the 'Question' column\n",
    "# df['Question'] = df['Question'].apply(remove_last_char_if_digit)"
   ]
  },
  {
   "cell_type": "code",
   "execution_count": 4,
   "id": "d7780bd2-f929-49c4-9de4-a2c8129bfcc6",
   "metadata": {},
   "outputs": [],
   "source": [
    "\n",
    "# df.to_excel('revisedOsdv.xlsx')\n",
    "fg = pd.read_excel(\"reordered.xlsx\")\n",
    "# Define the filename for your JSON file\n",
    "json_filename = 'osdv.json'\n",
    "\n",
    "# Save the DataFrame as a JSON file\n",
    "fg.to_json(json_filename, orient='records', indent=4)"
   ]
  },
  {
   "cell_type": "code",
   "execution_count": null,
   "id": "a62d2957-337a-462d-82ee-1b6b9ac32bb9",
   "metadata": {},
   "outputs": [],
   "source": []
  }
 ],
 "metadata": {
  "kernelspec": {
   "display_name": "Python 3 (ipykernel)",
   "language": "python",
   "name": "python3"
  },
  "language_info": {
   "codemirror_mode": {
    "name": "ipython",
    "version": 3
   },
   "file_extension": ".py",
   "mimetype": "text/x-python",
   "name": "python",
   "nbconvert_exporter": "python",
   "pygments_lexer": "ipython3",
   "version": "3.12.7"
  }
 },
 "nbformat": 4,
 "nbformat_minor": 5
}
